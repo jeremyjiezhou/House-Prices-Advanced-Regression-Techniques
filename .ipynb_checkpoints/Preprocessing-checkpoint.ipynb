{
 "cells": [
  {
   "cell_type": "code",
   "execution_count": null,
   "metadata": {},
   "outputs": [],
   "source": []
  },
  {
   "cell_type": "code",
   "execution_count": 20,
   "metadata": {},
   "outputs": [
    {
     "name": "stdout",
     "output_type": "stream",
     "text": [
      "# File sizes\n",
      "data_description.txt          0.01MB\n",
      "sample_submission.csv         0.03MB\n",
      "test.csv                      0.45MB\n",
      "train.csv                     0.46MB\n",
      "[208500 181500 223500 ... 266500 142125 147500]\n",
      "\n"
     ]
    },
    {
     "data": {
      "image/png": "[encoded data removed]",
      "text/plain": [
       "<Figure size 864x360 with 1 Axes>"
      ]
     },
     "metadata": {},
     "output_type": "display_data"
    }
   ],
   "source": [
    "import numpy as np # linear algebra\n",
    "import pandas as pd # data processing, CSV file I/O (e.g. pd.read_csv)\n",
    "import os\n",
    "import gc\n",
    "import matplotlib.pyplot as plt\n",
    "\n",
    "# check file size, make sure the running it will not take too long\n",
    "\n",
    "print('# File sizes')\n",
    "for f in os.listdir('data'):\n",
    "    if 'zip' not in f:\n",
    "        print(f.ljust(30) + str(round(os.path.getsize('data/' + f) / 1000000, 2)) + 'MB')\n",
    "        \n",
    "# Look at the data, the SalePrice is what we would like to predict\n",
    "df_train = pd.read_csv('data/train.csv')\n",
    "df_train.head()\n",
    "\n",
    "qids = pd.Series(df_train['SalePrice'].tolist())\n",
    "print(qids.values)\n",
    "\n",
    "plt.figure(figsize=(12, 5))\n",
    "plt.hist(qids, bins=50)\n",
    "plt.title('Log-Histogram of sale prices counts')\n",
    "plt.xlabel('Sale Prices')\n",
    "plt.ylabel('Count')\n",
    "print()\n",
    "\n"
   ]
  }
 ],
 "metadata": {
  "kernelspec": {
   "display_name": "Python 3",
   "language": "python",
   "name": "python3"
  },
  "language_info": {
   "codemirror_mode": {
    "name": "ipython",
    "version": 3
   },
   "file_extension": ".py",
   "mimetype": "text/x-python",
   "name": "python",
   "nbconvert_exporter": "python",
   "pygments_lexer": "ipython3",
   "version": "3.6.5"
  }
 },
 "nbformat": 4,
 "nbformat_minor": 2
}
