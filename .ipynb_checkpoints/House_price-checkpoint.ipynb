{
 "cells": [
  {
   "cell_type": "code",
   "execution_count": 22,
   "metadata": {},
   "outputs": [
    {
     "name": "stdout",
     "output_type": "stream",
     "text": [
      "876\n",
      "292\n",
      "292\n"
     ]
    }
   ],
   "source": [
    "import numpy as np\n",
    "import pandas as pd\n",
    "from sklearn.ensemble import GradientBoostingRegressor\n",
    "from sklearn.model_selection import cross_val_score\n",
    "import matplotlib.pyplot as plt\n",
    "import random\n",
    "\n",
    "def handle_non_numerical_data(data):\n",
    "    \"Converting all non-numerical data to numerical\"\n",
    "    #Store all of the columns into variable\n",
    "    columns=data.columns.values\n",
    "    for column in columns:\n",
    "        text_digit_vals={}\n",
    "        def convert_to_int(val):\n",
    "            return text_digit_vals[val]\n",
    "        if(data[column].dtype!=np.int64 and data[column].dtype!=np.float64):\n",
    "            #dtype is used to check the data type of the column\n",
    "            column_contents=data[column].values.tolist()\n",
    "            unique_elements=set(column_contents)\n",
    "            for index,unique in enumerate(unique_elements):\n",
    "                if(unique not in text_digit_vals):\n",
    "                    text_digit_vals[unique]=index\n",
    "            data[column]=list(map(convert_to_int,data[column]))\n",
    "    return data\n",
    "\n",
    "train_data=pd.read_csv(\"data/train.csv\")\n",
    "train_data=train_data.drop(\"Id\",1)\n",
    "# We can't perform mathematical operation on string.\n",
    "# That's why we have to handle non numerical data\n",
    "train_data=handle_non_numerical_data(train_data)\n",
    "# random.shuffle(train_data)\n",
    "m=train_data.shape[0]\n",
    "n=train_data.shape[1]\n",
    "\n",
    "\n",
    "X=train_data.iloc[:,0:n-1]\n",
    "ones=np.ones([X.shape[0],1])\n",
    "X=np.concatenate((ones,X),axis=1)\n",
    "X=np.array(X)\n",
    "\n",
    "Y=train_data.iloc[:,n-1:n].values\n",
    "Y=np.array(Y).flatten()\n",
    "\n",
    "split_1=int(0.6*len(X))\n",
    "split_2=int(0.8*len(X))\n",
    "\n",
    "X_train=X[:split_1]\n",
    "Y_train=Y[:split_1]\n",
    "print(len(X_train))\n",
    "X_dev=X[split_1:split_2]\n",
    "Y_dev=Y[split_1:split_2]\n",
    "print(len(X_dev))\n",
    "X_test=X[split_2:]\n",
    "Y_test=Y[split_2:]\n",
    "print(len(X_test))\n"
   ]
  },
  {
   "cell_type": "code",
   "execution_count": null,
   "metadata": {},
   "outputs": [],
   "source": []
  },
  {
   "cell_type": "code",
   "execution_count": null,
   "metadata": {},
   "outputs": [],
   "source": []
  }
 ],
 "metadata": {
  "kernelspec": {
   "display_name": "Python 3",
   "language": "python",
   "name": "python3"
  },
  "language_info": {
   "codemirror_mode": {
    "name": "ipython",
    "version": 3
   },
   "file_extension": ".py",
   "mimetype": "text/x-python",
   "name": "python",
   "nbconvert_exporter": "python",
   "pygments_lexer": "ipython3",
   "version": "3.6.5"
  }
 },
 "nbformat": 4,
 "nbformat_minor": 2
}
